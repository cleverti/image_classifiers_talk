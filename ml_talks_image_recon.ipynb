{
 "cells": [
  {
   "cell_type": "markdown",
   "metadata": {},
   "source": [
    "# Machine Learning Talks\n",
    "## 3rd - Deep Learning Image Multiclassifier Basics\n",
    "\n",
    "\n",
    "This notebook was developed by André Miranda for the Cleverti's Machine Learning Talks.\n",
    "\n",
    "In this notebook I take the famous MNIST Dataset and implement a simple but powerfull Convolutional Neural Network, with 99% Test Acc. and with the ability to be used in applications outside the MNIST Dataset.\n",
    "\n",
    "I used the Keras library to develop the NN.\n",
    "\n",
    "The MNIST Dataset is a classical dataset in Computer Vision, made of handwritten digits. So, in this task I try to develop a Classifier to predict handwritten digits from 0 to 9.\n",
    "\n",
    "A lot of the core ideas here came after I read \"Deep Learning with Python\" by François Chollet. A great book for those who want to learn Keras and Deep Learning, with Python."
   ]
  },
  {
   "cell_type": "code",
   "execution_count": 1,
   "metadata": {},
   "outputs": [
    {
     "name": "stderr",
     "output_type": "stream",
     "text": [
      "Using TensorFlow backend.\n"
     ]
    }
   ],
   "source": [
    "# Imports\n",
    "# For modelling\n",
    "from keras.datasets import mnist  # the dataset\n",
    "from keras.models import load_model  # for loading saved trained models\n",
    "from keras.utils import to_categorical  # to encode the variables\n",
    "from keras import layers, models\n",
    "import numpy as np\n",
    "\n",
    "# To plot\n",
    "import matplotlib.pyplot as plt\n",
    "\n",
    "# For handling images\n",
    "import cv2"
   ]
  },
  {
   "cell_type": "markdown",
   "metadata": {},
   "source": [
    "## The data\n",
    "\n",
    "Each sample in the dataset is a 28x28 image with one colour channel. You can see an example below.\n",
    "\n",
    "The data is splitted into 60000 train samples and 10000 test samples.\n",
    "\n",
    "The classes are well balanced trough the dataset."
   ]
  },
  {
   "cell_type": "code",
   "execution_count": 2,
   "metadata": {},
   "outputs": [],
   "source": [
    "# Importing the data, already available in the Keras package\n",
    "(train_images_total, train_labels_total), (test_images, test_labels) = mnist.load_data()\n"
   ]
  },
  {
   "cell_type": "code",
   "execution_count": 3,
   "metadata": {},
   "outputs": [
    {
     "name": "stdout",
     "output_type": "stream",
     "text": [
      "Digit Samples\n"
     ]
    },
    {
     "data": {
      "text/plain": [
       "<matplotlib.image.AxesImage at 0x7f0b3d470a58>"
      ]
     },
     "execution_count": 3,
     "metadata": {},
     "output_type": "execute_result"
    },
    {
     "data": {
      "image/png": "[encoded data removed]",
      "text/plain": [
       "<Figure size 432x288 with 1 Axes>"
      ]
     },
     "metadata": {
      "needs_background": "light"
     },
     "output_type": "display_data"
    }
   ],
   "source": [
    "print('Digit Samples')\n",
    "example = train_images_total[17]\n",
    "plt.imshow(example, cmap=plt.cm.binary)"
   ]
  },
  {
   "cell_type": "markdown",
   "metadata": {},
   "source": [
    "## Convnet Model\n",
    "\n",
    "For the model's architecture I chose a Convolutional Neural Network.\n",
    "The model is sequential, composed by 8 layers:\n",
    "    - 2 pairs of Convolution + MaxPooling Layers\n",
    "    - Convolution Layer\n",
    "    - Flatten Layer, to reshape the data in 1 dimension\n",
    "    - A Dense layer\n",
    "    - Final Dense layer with ten final nodes, the same as the number of classes in our problem\n",
    "    \n",
    "For the activation function in the layers I used relu, except in the last one where I used the softmax to output the index for the max value in the predicitions. This will be our digit predicted.\n",
    "I used RMSprop optimizer, a standard optimizer.\n",
    "The Loss Function will be the Categorical Crossentropy, because we are dealing with a multiclassification problem.\n",
    "I used Accuracy as performance metric because we have a balanced dataset.\n",
    "\n",
    "I kept a validation set for tunning the model, that I first trained with 13 epochs."
   ]
  },
  {
   "cell_type": "code",
   "execution_count": 4,
   "metadata": {},
   "outputs": [],
   "source": [
    "# Data Processing\n",
    "train_images_total = train_images_total.reshape((60000, 28, 28, 1)) # reshape to match NN input\n",
    "train_images_total = train_images_total.astype('float32') / 255  # normalization of gray images\n",
    "test_images = test_images.reshape((10000, 28, 28, 1))\n",
    "test_images = test_images.astype('float32') / 255\n",
    "train_labels_total = to_categorical(train_labels_total)  # one hot encoding\n",
    "test_labels = to_categorical(test_labels)\n",
    "\n",
    "num_validation_samples = 12500\n",
    "validation_data = train_images_total[: num_validation_samples]\n",
    "validation_labels = train_labels_total[: num_validation_samples]\n",
    "train_data = train_images_total[num_validation_samples :]\n",
    "\n",
    "train_labels = train_labels_total[num_validation_samples :]"
   ]
  },
  {
   "cell_type": "code",
   "execution_count": 5,
   "metadata": {},
   "outputs": [
    {
     "name": "stderr",
     "output_type": "stream",
     "text": [
      "WARNING: Logging before flag parsing goes to stderr.\n",
      "W0624 11:45:15.088629 139687527520064 deprecation_wrapper.py:119] From /home/andre/Desktop/Cleverti/ML_talks/venv/lib/python3.6/site-packages/keras/backend/tensorflow_backend.py:74: The name tf.get_default_graph is deprecated. Please use tf.compat.v1.get_default_graph instead.\n",
      "\n",
      "W0624 11:45:15.108518 139687527520064 deprecation_wrapper.py:119] From /home/andre/Desktop/Cleverti/ML_talks/venv/lib/python3.6/site-packages/keras/backend/tensorflow_backend.py:517: The name tf.placeholder is deprecated. Please use tf.compat.v1.placeholder instead.\n",
      "\n",
      "W0624 11:45:15.111723 139687527520064 deprecation_wrapper.py:119] From /home/andre/Desktop/Cleverti/ML_talks/venv/lib/python3.6/site-packages/keras/backend/tensorflow_backend.py:4138: The name tf.random_uniform is deprecated. Please use tf.random.uniform instead.\n",
      "\n",
      "W0624 11:45:15.126440 139687527520064 deprecation_wrapper.py:119] From /home/andre/Desktop/Cleverti/ML_talks/venv/lib/python3.6/site-packages/keras/backend/tensorflow_backend.py:3976: The name tf.nn.max_pool is deprecated. Please use tf.nn.max_pool2d instead.\n",
      "\n",
      "W0624 11:45:15.189245 139687527520064 deprecation_wrapper.py:119] From /home/andre/Desktop/Cleverti/ML_talks/venv/lib/python3.6/site-packages/keras/optimizers.py:790: The name tf.train.Optimizer is deprecated. Please use tf.compat.v1.train.Optimizer instead.\n",
      "\n",
      "W0624 11:45:15.211836 139687527520064 deprecation_wrapper.py:119] From /home/andre/Desktop/Cleverti/ML_talks/venv/lib/python3.6/site-packages/keras/backend/tensorflow_backend.py:3295: The name tf.log is deprecated. Please use tf.math.log instead.\n",
      "\n",
      "W0624 11:45:15.320400 139687527520064 deprecation.py:323] From /home/andre/Desktop/Cleverti/ML_talks/venv/lib/python3.6/site-packages/tensorflow/python/ops/math_grad.py:1250: add_dispatch_support.<locals>.wrapper (from tensorflow.python.ops.array_ops) is deprecated and will be removed in a future version.\n",
      "Instructions for updating:\n",
      "Use tf.where in 2.0, which has the same broadcast rule as np.where\n",
      "W0624 11:45:15.433731 139687527520064 deprecation_wrapper.py:119] From /home/andre/Desktop/Cleverti/ML_talks/venv/lib/python3.6/site-packages/keras/backend/tensorflow_backend.py:986: The name tf.assign_add is deprecated. Please use tf.compat.v1.assign_add instead.\n",
      "\n"
     ]
    },
    {
     "name": "stdout",
     "output_type": "stream",
     "text": [
      "Train on 47500 samples, validate on 12500 samples\n",
      "Epoch 1/13\n",
      "47500/47500 [==============================] - 13s 268us/step - loss: 0.6101 - acc: 0.8080 - val_loss: 0.1989 - val_acc: 0.9386\n",
      "Epoch 2/13\n",
      "47500/47500 [==============================] - 13s 278us/step - loss: 0.1548 - acc: 0.9529 - val_loss: 0.1907 - val_acc: 0.9398\n",
      "Epoch 3/13\n",
      "47500/47500 [==============================] - 14s 293us/step - loss: 0.0901 - acc: 0.9723 - val_loss: 0.0847 - val_acc: 0.9725\n",
      "Epoch 4/13\n",
      "47500/47500 [==============================] - 16s 336us/step - loss: 0.0640 - acc: 0.9798 - val_loss: 0.0585 - val_acc: 0.9829\n",
      "Epoch 5/13\n",
      "47500/47500 [==============================] - 14s 295us/step - loss: 0.0481 - acc: 0.9851 - val_loss: 0.0458 - val_acc: 0.9859\n",
      "Epoch 6/13\n",
      "47500/47500 [==============================] - 16s 343us/step - loss: 0.0385 - acc: 0.9880 - val_loss: 0.0545 - val_acc: 0.9837\n",
      "Epoch 7/13\n",
      "47500/47500 [==============================] - 15s 312us/step - loss: 0.0312 - acc: 0.9899 - val_loss: 0.0395 - val_acc: 0.9873\n",
      "Epoch 8/13\n",
      "47500/47500 [==============================] - 14s 297us/step - loss: 0.0257 - acc: 0.9920 - val_loss: 0.0404 - val_acc: 0.9868\n",
      "Epoch 9/13\n",
      "47500/47500 [==============================] - 14s 292us/step - loss: 0.0228 - acc: 0.9925 - val_loss: 0.0429 - val_acc: 0.9873\n",
      "Epoch 10/13\n",
      "47500/47500 [==============================] - 13s 281us/step - loss: 0.0180 - acc: 0.9945 - val_loss: 0.0444 - val_acc: 0.9879\n",
      "Epoch 11/13\n",
      "47500/47500 [==============================] - 13s 282us/step - loss: 0.0159 - acc: 0.9950 - val_loss: 0.0458 - val_acc: 0.9859\n",
      "Epoch 12/13\n",
      "47500/47500 [==============================] - 13s 280us/step - loss: 0.0140 - acc: 0.9954 - val_loss: 0.0343 - val_acc: 0.9902\n",
      "Epoch 13/13\n",
      "47500/47500 [==============================] - 14s 291us/step - loss: 0.0117 - acc: 0.9965 - val_loss: 0.0533 - val_acc: 0.9874\n"
     ]
    }
   ],
   "source": [
    "# Modelling\n",
    "model = models.Sequential()\n",
    "# Convolution NN part\n",
    "model.add(layers.Conv2D(32, (3,3), activation='relu', input_shape=(28, 28, 1)))\n",
    "model.add(layers.MaxPooling2D((2, 2)))\n",
    "model.add(layers.Conv2D(64, (3,3), activation='relu'))\n",
    "model.add(layers.MaxPooling2D((2, 2)))\n",
    "model.add(layers.Conv2D(64, (3,3), activation='relu'))\n",
    "\n",
    "# Classifier Part\n",
    "model.add(layers.Flatten())\n",
    "model.add(layers.Dense(64, activation='relu'))\n",
    "model.add(layers.Dense(10, activation='softmax'))\n",
    "\n",
    "# Tunning the model\n",
    "model.compile(optimizer='rmsprop',  # a standard optimizer\n",
    "              loss='categorical_crossentropy',  # the suitable for multiclass classifiers\n",
    "              metrics=['accuracy'])  # suitable for a balanced dataset as the one we have\n",
    "history = model.fit(train_data, train_labels, epochs=13, batch_size=512,\n",
    "                    validation_data=[validation_data, validation_labels])\n",
    "# Monitor the Loss\n",
    "history_dict = history.history\n",
    "loss_values = history_dict['loss']\n",
    "val_loss_values = history_dict['val_loss']                      "
   ]
  },
  {
   "cell_type": "code",
   "execution_count": 6,
   "metadata": {},
   "outputs": [
    {
     "data": {
      "image/png": "[encoded data removed]",
      "text/plain": [
       "<Figure size 432x288 with 1 Axes>"
      ]
     },
     "metadata": {
      "needs_background": "light"
     },
     "output_type": "display_data"
    }
   ],
   "source": [
    "# Plotting the Performance on each epoch\n",
    "epochs = range(1, 14)\n",
    "plt.plot(epochs, loss_values, 'bo', label='Training Loss')\n",
    "plt.plot(epochs, val_loss_values, 'b', label='Validation Loss')\n",
    "plt.title('Training and Validation Loss')\n",
    "plt.xlabel('Epochs')\n",
    "plt.ylabel('Loss')\n",
    "plt.legend()\n",
    "plt.show()"
   ]
  },
  {
   "cell_type": "markdown",
   "metadata": {},
   "source": [
    "## Validation\n",
    "\n",
    "We can see that the model starts to overfit in the training data after the 7th epoch, where the Validation Loss stabilizes.\n",
    "So I'll train the final model in 7 epochs using the whole training data."
   ]
  },
  {
   "cell_type": "code",
   "execution_count": 9,
   "metadata": {},
   "outputs": [
    {
     "name": "stdout",
     "output_type": "stream",
     "text": [
      "Epoch 1/7\n",
      "60000/60000 [==============================] - 15s 253us/step - loss: 0.0053 - acc: 0.9983\n",
      "Epoch 2/7\n",
      "60000/60000 [==============================] - 15s 257us/step - loss: 0.0049 - acc: 0.9987\n",
      "Epoch 3/7\n",
      "60000/60000 [==============================] - 15s 255us/step - loss: 0.0043 - acc: 0.9988\n",
      "Epoch 4/7\n",
      "60000/60000 [==============================] - 15s 250us/step - loss: 0.0041 - acc: 0.9988\n",
      "Epoch 5/7\n",
      "60000/60000 [==============================] - 15s 250us/step - loss: 0.0038 - acc: 0.9989\n",
      "Epoch 6/7\n",
      "60000/60000 [==============================] - 15s 253us/step - loss: 0.0041 - acc: 0.9987\n",
      "Epoch 7/7\n",
      "60000/60000 [==============================] - 17s 285us/step - loss: 0.0034 - acc: 0.9991\n",
      "10000/10000 [==============================] - 1s 110us/step\n",
      "Test Acc.: 99.0%\n"
     ]
    }
   ],
   "source": [
    "final_model = model\n",
    "final_model.fit(train_images_total, train_labels_total, epochs=7, batch_size=512)\n",
    "test_loss, test_acc = final_model.evaluate(test_images, test_labels)\n",
    "print('Test Acc.: {0}%'.format(round(test_acc, 2) * 100))\n",
    "\n",
    "final_model.save('mnist_final.h5')  # saving the model"
   ]
  },
  {
   "cell_type": "markdown",
   "metadata": {},
   "source": [
    "## Results\n",
    "\n",
    "99% Accuracy is great, especially with such a few lines of code for modelling. Thanks Keras for that!\n",
    "\n",
    "Now let's see if the model is good for classifying arbitrary data, for that we'll use a digit handwritten by ourselves."
   ]
  },
  {
   "cell_type": "code",
   "execution_count": 10,
   "metadata": {},
   "outputs": [
    {
     "name": "stdout",
     "output_type": "stream",
     "text": [
      "Prediction: 5\n"
     ]
    },
    {
     "data": {
      "image/png": "[encoded data removed]",
      "text/plain": [
       "<Figure size 432x288 with 1 Axes>"
      ]
     },
     "metadata": {
      "needs_background": "light"
     },
     "output_type": "display_data"
    }
   ],
   "source": [
    "im_gray = cv2.imread('digit_test.png', cv2.IMREAD_GRAYSCALE)  # save an image with the name 'digit_test.png'\n",
    "\n",
    "thresh = 127\n",
    "im_bw = cv2.threshold(im_gray, thresh, 255, cv2.THRESH_BINARY)[1]\n",
    "im_bw = cv2.resize(im_bw, (28, 28))\n",
    "im_bw = (255 - im_bw)\n",
    "im_bw = im_bw.astype('float32') / 255\n",
    "plt.imshow(im_bw, cmap=plt.cm.binary)\n",
    "final_model = load_model('mnist_final.h5')\n",
    "test_prediction = final_model.predict(im_bw.reshape(1,28,28,1))\n",
    "digit_predicition = np.argmax(test_prediction)\n",
    "print('Prediction: {0}'.format(digit_predicition))"
   ]
  },
  {
   "cell_type": "markdown",
   "metadata": {},
   "source": [
    "## Great!\n",
    "\n",
    "It works well, feel free to try it yourself!"
   ]
  }
 ],
 "metadata": {
  "kernelspec": {
   "display_name": "Python 3",
   "language": "python",
   "name": "python3"
  },
  "language_info": {
   "codemirror_mode": {
    "name": "ipython",
    "version": 3
   },
   "file_extension": ".py",
   "mimetype": "text/x-python",
   "name": "python",
   "nbconvert_exporter": "python",
   "pygments_lexer": "ipython3",
   "version": "3.6.7"
  }
 },
 "nbformat": 4,
 "nbformat_minor": 2
}
